{
  "cells": [
    {
      "cell_type": "markdown",
      "id": "13ad028b-72b7-43ed-aa78-96fd4e518040",
      "metadata": {
        "id": "13ad028b-72b7-43ed-aa78-96fd4e518040"
      },
      "source": [
        "# Assignment: Data Wrangling\n",
        "## `! git clone https://github.com/DS3001/wrangling`\n",
        "## Do Q2, and one of Q1 or Q3."
      ]
    },
    {
      "cell_type": "markdown",
      "id": "5735a4d4-8be8-433a-a351-70eb8002e632",
      "metadata": {
        "id": "5735a4d4-8be8-433a-a351-70eb8002e632"
      },
      "source": [
        "**Q1.** Open the \"tidy_data.pdf\" document in the repo, which is a paper called Tidy Data by Hadley Wickham.\n",
        "\n",
        "  1. Read the abstract. What is this paper about?\n",
        "\n",
        "  This paper is about an important component of data cleaning: data tidying.\n",
        "\n",
        "  2. Read the introduction. What is the \"tidy data standard\" intended to accomplish?\n",
        "\n",
        "  The \"tidy data standard\" is meant to standardize data cleaning, making data cleaning easier. Data scientists no longer need to start the data cleaning process from scratch each time.\n",
        "\n",
        "  3. Read the intro to section 2. What does this sentence mean: \"Like families, tidy datasets are all alike but every messy dataset is messy in its own way.\" What does this sentence mean: \"For a given dataset, it’s usually easy to figure out what are observations and what are variables, but it is surprisingly difficult to precisely define variables and observations in general.\"\n",
        "\n",
        "  The first sentence means that tidy datasets usually follow a standard format or structure, which makes them easy to work with and analyze. On the contrary, messy datasets vary widely, each presenting unique challenges when working with them.\n",
        "\n",
        "  The second sentence suggests that while identifying observations and variables in a specific dataset is often straightforward, creating a clear definition for what constitutes the two across all datasets can be complex and nuanced.\n",
        "\n",
        "  4. Read Section 2.2. How does Wickham define values, variables, and observations?\n",
        "\n",
        "  Values are numeric or categorical, a variable is a collection of values that measure the same attribute, and an observation is a collection of values that measure it.\n",
        "\n",
        "  5. How is \"Tidy Data\" defined in section 2.3?\n",
        "\n",
        "  Each variable is a column, each observation is a row, and each type of observational unit is a table. Data is messy if not tidy.\n",
        "\n",
        "  6. Read the intro to Section 3 and Section 3.1. What are the 5 most common problems with messy datasets? Why are the data in Table 4 messy? What is \"melting\" a dataset?\n",
        "\n",
        "  - Column headers are values, not variable names\n",
        "  - Multiple variables are stored in one column\n",
        "  - Variables are stored in both rows and columns\n",
        "  - Multiple types of observational units are stored in the same table\n",
        "  - A single observational unit is stored in multiple tables\n",
        "\n",
        "  The data in Table 4 are messy because the column headers are values (income ranges) and not variable names.\n",
        "\n",
        "  Melting a dataset is the process of converting column-value variables into rows.\n",
        "\n",
        "  7. Why, specifically, is table 11 messy but table 12 tidy and \"molten\"?\n",
        "\n",
        "  Table 11 is messy because the column headers are once again values (days). Table 12 then melts those day value columns into a single variable 'date'. Further more, the element column in table 11 contains variable names and not values. Tmax and tmin -- the \"values\" under the element column are actually names of variables, and not the actual values themselves. Whereas the tidy version of table 12 show the actual values of tmin and tmax for each record.\n",
        "\n",
        "  8. Read Section 6. What is the \"chicken-and-egg\" problem with focusing on tidy data? What does Wickham hope happens in the future with further work on the subject of data wrangling?\n",
        "\n",
        "  The \"chicken-and-egg\" problem with focusing on tidy data is that if tidy data is only as useful as the tools that work with it, then tidy tools will be inextricably linked to tidy data. This makes it easy to get stuck in a local maxima where independently changing data structures or data tools will not improve the workflow.\n",
        "\n",
        "  He hopes that in the future, tidy can create a bigger and more robust ecosystem for ideas and tools in data science."
      ]
    },
    {
      "cell_type": "markdown",
      "id": "da879ea7-8aac-48a3-b6c2-daea56d2e072",
      "metadata": {
        "id": "da879ea7-8aac-48a3-b6c2-daea56d2e072"
      },
      "source": [
        "**Q2.** This question provides some practice cleaning variables which have common problems.\n",
        "1. Numeric variable: For `./data/airbnb_hw.csv`, clean the `Price` variable as well as you can, and explain the choices you make. How many missing values do you end up with? (Hint: What happens to the formatting when a price goes over 999 dollars, say from 675 to 1,112?)\n",
        "2. Categorical variable: For the `./data/sharks.csv` data covered in the lecture, clean the \"Type\" variable as well as you can, and explain the choices you make.\n",
        "3. Dummy variable: For the pretrial data covered in the lecture, clean the `WhetherDefendantWasReleasedPretrial` variable as well as you can, and, in particular, replace missing values with `np.nan`.\n",
        "4. Missing values, not at random: For the pretrial data covered in the lecture, clean the `ImposedSentenceAllChargeInContactEvent` variable as well as you can, and explain the choices you make. (Hint: Look at the `SentenceTypeAllChargesAtConvictionInContactEvent` variable.)"
      ]
    },
    {
      "cell_type": "code",
      "source": [
        "import pandas as pd\n",
        "import numpy as np\n",
        "import seaborn as sns"
      ],
      "metadata": {
        "id": "IazE0TMyodOx"
      },
      "id": "IazE0TMyodOx",
      "execution_count": null,
      "outputs": []
    },
    {
      "cell_type": "code",
      "source": [
        "df = pd.read_csv('./airbnb_hw.csv',low_memory=False)\n",
        "df.head()"
      ],
      "metadata": {
        "id": "S-WG_lpVpB2m"
      },
      "id": "S-WG_lpVpB2m",
      "execution_count": null,
      "outputs": []
    },
    {
      "cell_type": "code",
      "source": [
        "price = df['Price']\n",
        "price.unique()"
      ],
      "metadata": {
        "id": "IJL5XoE8pPHN"
      },
      "id": "IJL5XoE8pPHN",
      "execution_count": null,
      "outputs": []
    },
    {
      "cell_type": "code",
      "source": [
        "price=price.str.replace(',','') # Remove the commas\n",
        "price = pd.to_numeric(price,errors='coerce') # Price to numeric instead of string\n",
        "print(price.unique(),'\\n')\n",
        "print('Total missing: ',sum(price.isnull()))"
      ],
      "metadata": {
        "id": "fTQ78gfyp0_f"
      },
      "id": "fTQ78gfyp0_f",
      "execution_count": null,
      "outputs": []
    },
    {
      "cell_type": "code",
      "source": [
        "df_shark = pd.read_csv('./sharks.csv',low_memory=False)\n",
        "df_shark.head()"
      ],
      "metadata": {
        "id": "xBnIxpRysL71"
      },
      "id": "xBnIxpRysL71",
      "execution_count": null,
      "outputs": []
    },
    {
      "cell_type": "code",
      "source": [
        "sharkType = df_shark['Type']\n",
        "sharkType.unique()\n",
        "\n",
        "sharkType.value_counts()\n",
        "type = sharkType\n",
        "type = type.replace(['Sea Disaster','Boat','Boating','Boatomg'],'Watercraft') # Combine all the different watercraft accidents\n",
        "type.value_counts()\n",
        "\n",
        "type = type.replace(['Invalid','Questionable','Unconfirmed','Unverified','Under investigation'],np.nan) # Combine all the invalid or N/A accident records\n",
        "type.value_counts()\n",
        "\n",
        "df_shark['Type'] = type\n",
        "del type\n",
        "\n",
        "df_shark['Type'].value_counts()"
      ],
      "metadata": {
        "id": "_PmknPcUsbpf"
      },
      "id": "_PmknPcUsbpf",
      "execution_count": null,
      "outputs": []
    },
    {
      "cell_type": "code",
      "source": [
        "url = 'http://www.vcsc.virginia.gov/pretrialdataproject/October%202017%20Cohort_Virginia%20Pretrial%20Data%20Project_Deidentified%20FINAL%20Update_10272021.csv'\n",
        "df_pretrial= pd.read_csv(url,low_memory=False)\n",
        "\n",
        "df_pretrial.head()\n",
        "\n",
        "release = df_pretrial['WhetherDefendantWasReleasedPretrial']\n",
        "release = release.replace(9,np.nan) # Remove the nines as it represents unclear data\n",
        "sum(release.isnull()) # Missing values\n",
        "df_pretrial['WhetherDefendantWasReleasedPretrial'] = release\n",
        "del release"
      ],
      "metadata": {
        "id": "gYfJ1_zC-DEj"
      },
      "id": "gYfJ1_zC-DEj",
      "execution_count": null,
      "outputs": []
    },
    {
      "cell_type": "code",
      "source": [
        "length = df_pretrial['ImposedSentenceAllChargeInContactEvent']\n",
        "type = df_pretrial['SentenceTypeAllChargesAtConvictionInContractEvent']\n",
        "length = pd.to_numeric(length,errors='coerce') # Length to numeric\n",
        "length_NA = length.isnull() # Dummy missing\n",
        "length = length.mask(type ==4,0) # Replace length with 0\n",
        "length = length.mask(type ==9, np.nan) # Replace length with N/A\n",
        "length_NA = length.isnull() # Another dummy missing\n",
        "df['ImposedSentenceAllChargeInContactEvent'] = length # Replace data with cleaned version\n",
        "del length,type"
      ],
      "metadata": {
        "id": "zGxcF7EZMEj6"
      },
      "id": "zGxcF7EZMEj6",
      "execution_count": null,
      "outputs": []
    },
    {
      "cell_type": "markdown",
      "id": "649494cd-cfd6-4f80-992a-9994fc19e1d5",
      "metadata": {
        "id": "649494cd-cfd6-4f80-992a-9994fc19e1d5"
      },
      "source": [
        "**Q3.** Many important datasets contain a race variable, typically limited to a handful of values often including Black, White, Asian, Latino, and Indigenous. This question looks at data gathering efforts on this variable by the U.S. Federal government.\n",
        "\n",
        "1. How did the most recent US Census gather data on race?\n",
        "2. Why do we gather these data? What role do these kinds of data play in politics and society? Why does data quality matter?\n",
        "3. Please provide a constructive criticism of how the Census was conducted: What was done well? What do you think was missing? How should future large scale surveys be adjusted to best reflect the diversity of the population? Could some of the Census' good practices be adopted more widely to gather richer and more useful data?\n",
        "4. How did the Census gather data on sex and gender? Please provide a similar constructive criticism of their practices.\n",
        "5. When it comes to cleaning data, what concerns do you have about protected characteristics like sex, gender, sexual identity, or race? What challenges can you imagine arising when there are missing values? What good or bad practices might people adopt, and why?\n",
        "6. Suppose someone invented an algorithm to impute values for protected characteristics like race, gender, sex, or sexuality. What kinds of concerns would you have?"
      ]
    }
  ],
  "metadata": {
    "colab": {
      "provenance": []
    },
    "kernelspec": {
      "display_name": "Python 3 (ipykernel)",
      "language": "python",
      "name": "python3"
    },
    "language_info": {
      "codemirror_mode": {
        "name": "ipython",
        "version": 3
      },
      "file_extension": ".py",
      "mimetype": "text/x-python",
      "name": "python",
      "nbconvert_exporter": "python",
      "pygments_lexer": "ipython3",
      "version": "3.10.4"
    }
  },
  "nbformat": 4,
  "nbformat_minor": 5
}